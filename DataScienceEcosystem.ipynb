{
 "cells": [
  {
   "cell_type": "code",
   "execution_count": null,
   "id": "100faf6e-1388-4d3b-b9a7-c9eb038a18e8",
   "metadata": {},
   "outputs": [],
   "source": [
    "# Data Science Tools and Ecosystem "
   ]
  },
  {
   "cell_type": "code",
   "execution_count": null,
   "id": "48c95a0d-53c5-4f51-86f6-c3dbcaa284cd",
   "metadata": {},
   "outputs": [],
   "source": [
    "In this notebook, we summarize Data Science tools and ecosystems. \n",
    "This includes popular languages, libraries, tools, and some basic examples \n",
    "of arithmetic operations and conversions."
   ]
  },
  {
   "cell_type": "code",
   "execution_count": null,
   "id": "752d6c73-1186-493f-ba56-1657ed383e08",
   "metadata": {},
   "outputs": [],
   "source": [
    "Some of the popular languages for Data Science include:\n",
    "1. Python\n",
    "2. R\n",
    "3. SQL\n",
    "4. Julia\n",
    "5. Scala"
   ]
  },
  {
   "cell_type": "code",
   "execution_count": null,
   "id": "fbd2334b-e7a8-4099-8bdc-02da0a988c4e",
   "metadata": {},
   "outputs": [],
   "source": [
    "Commonly used Data Science libraries:\n",
    "- Pandas\n",
    "- NumPy\n",
    "- Matplotlib\n",
    "- Seaborn\n",
    "- Scikit-learn\n",
    "- TensorFlow\n",
    "- PyTorch"
   ]
  },
  {
   "cell_type": "code",
   "execution_count": null,
   "id": "1638465b-1aca-4a23-890f-261afae25c52",
   "metadata": {},
   "outputs": [],
   "source": [
    "| Tool Name        | Category          | Popularity |\n",
    "|------------------|-------------------|------------|\n",
    "| Jupyter Notebook | Development       | High       |\n",
    "| RStudio          | Development       | High       |\n",
    "| VS Code          | Development       | High       |\n",
    "| Tableau          | Visualization     | High       |\n",
    "| Apache Spark     | Big Data          | High       |"
   ]
  },
  {
   "cell_type": "code",
   "execution_count": null,
   "id": "02df9c1c-2121-4aaf-a1c1-03983e60cbf7",
   "metadata": {},
   "outputs": [],
   "source": [
    "### Arithmetic Expression Examples\n",
    "Below are a few examples of evaluating arithmetic expressions in Python."
   ]
  },
  {
   "cell_type": "code",
   "execution_count": null,
   "id": "f31219a7-60e1-4b5c-8efa-c3c5aebc2f40",
   "metadata": {},
   "outputs": [],
   "source": [
    "# This is a simple arithmetic expression to multiply then add integers\n",
    "(3*4)+5"
   ]
  },
  {
   "cell_type": "code",
   "execution_count": null,
   "id": "b1e85712-90df-44d4-835e-c1cc91d7b3f9",
   "metadata": {},
   "outputs": [],
   "source": [
    "# This will convert 200 minutes to hours by dividing by 60\n",
    "minutes = 200 hours = minutes / 60hours"
   ]
  },
  {
   "cell_type": "code",
   "execution_count": null,
   "id": "0118a970-1bc4-4e9a-a7f9-8cbe435b3a93",
   "metadata": {},
   "outputs": [],
   "source": [
    "**Objectives:**\n",
    "- List popular languages for Data Science\n",
    "- Identify commonly used libraries\n",
    "- Demonstrate basic arithmetic in Python\n",
    "- Show unit conversion example\n",
    "- Create tables in Markdown"
   ]
  },
  {
   "cell_type": "code",
   "execution_count": null,
   "id": "adf7e022-5188-4ab7-9cfc-2e8df8c46167",
   "metadata": {},
   "outputs": [],
   "source": [
    "## Author\n",
    "[Chastellia Agatha Meiga Yanto] "
   ]
  }
 ],
 "metadata": {
  "kernelspec": {
   "display_name": "Python 3 (ipykernel)",
   "language": "python",
   "name": "python3"
  },
  "language_info": {
   "codemirror_mode": {
    "name": "ipython",
    "version": 3
   },
   "file_extension": ".py",
   "mimetype": "text/x-python",
   "name": "python",
   "nbconvert_exporter": "python",
   "pygments_lexer": "ipython3",
   "version": "3.12.8"
  }
 },
 "nbformat": 4,
 "nbformat_minor": 5
}
